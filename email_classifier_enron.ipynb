{
 "cells": [
  {
   "cell_type": "markdown",
   "id": "33d1e860",
   "metadata": {},
   "source": [
    "# Email classifier - A smart routing system for emails\n",
    "\n",
    "This project aims to create a ML model capable of automatically classifying emails based on their content.\n",
    "The dataset used is the Enron email dataset, which contains a large number of emails from the Enron Corporation."
   ]
  },
  {
   "cell_type": "markdown",
   "id": "a43387dd",
   "metadata": {},
   "source": [
    "## Libraries"
   ]
  },
  {
   "cell_type": "code",
   "execution_count": 1,
   "id": "040bbe16",
   "metadata": {},
   "outputs": [
    {
     "name": "stderr",
     "output_type": "stream",
     "text": [
      "c:\\Users\\khali\\AppData\\Local\\Programs\\Python\\Python311\\Lib\\site-packages\\tqdm\\auto.py:21: TqdmWarning: IProgress not found. Please update jupyter and ipywidgets. See https://ipywidgets.readthedocs.io/en/stable/user_install.html\n",
      "  from .autonotebook import tqdm as notebook_tqdm\n"
     ]
    }
   ],
   "source": [
    "import pandas as pd\n",
    "import numpy as np\n",
    "import matplotlib.pyplot as plt\n",
    "import seaborn as sns\n",
    "import kagglehub"
   ]
  },
  {
   "cell_type": "markdown",
   "id": "9bdd6866",
   "metadata": {},
   "source": [
    "## Importing Dataset"
   ]
  },
  {
   "cell_type": "code",
   "execution_count": 2,
   "id": "689941db",
   "metadata": {},
   "outputs": [
    {
     "data": {
      "text/html": [
       "<div>\n",
       "<style scoped>\n",
       "    .dataframe tbody tr th:only-of-type {\n",
       "        vertical-align: middle;\n",
       "    }\n",
       "\n",
       "    .dataframe tbody tr th {\n",
       "        vertical-align: top;\n",
       "    }\n",
       "\n",
       "    .dataframe thead th {\n",
       "        text-align: right;\n",
       "    }\n",
       "</style>\n",
       "<table border=\"1\" class=\"dataframe\">\n",
       "  <thead>\n",
       "    <tr style=\"text-align: right;\">\n",
       "      <th></th>\n",
       "      <th>file</th>\n",
       "      <th>message</th>\n",
       "    </tr>\n",
       "  </thead>\n",
       "  <tbody>\n",
       "    <tr>\n",
       "      <th>0</th>\n",
       "      <td>allen-p/_sent_mail/1.</td>\n",
       "      <td>Message-ID: &lt;18782981.1075855378110.JavaMail.e...</td>\n",
       "    </tr>\n",
       "    <tr>\n",
       "      <th>1</th>\n",
       "      <td>allen-p/_sent_mail/10.</td>\n",
       "      <td>Message-ID: &lt;15464986.1075855378456.JavaMail.e...</td>\n",
       "    </tr>\n",
       "    <tr>\n",
       "      <th>2</th>\n",
       "      <td>allen-p/_sent_mail/100.</td>\n",
       "      <td>Message-ID: &lt;24216240.1075855687451.JavaMail.e...</td>\n",
       "    </tr>\n",
       "    <tr>\n",
       "      <th>3</th>\n",
       "      <td>allen-p/_sent_mail/1000.</td>\n",
       "      <td>Message-ID: &lt;13505866.1075863688222.JavaMail.e...</td>\n",
       "    </tr>\n",
       "    <tr>\n",
       "      <th>4</th>\n",
       "      <td>allen-p/_sent_mail/1001.</td>\n",
       "      <td>Message-ID: &lt;30922949.1075863688243.JavaMail.e...</td>\n",
       "    </tr>\n",
       "  </tbody>\n",
       "</table>\n",
       "</div>"
      ],
      "text/plain": [
       "                       file                                            message\n",
       "0     allen-p/_sent_mail/1.  Message-ID: <18782981.1075855378110.JavaMail.e...\n",
       "1    allen-p/_sent_mail/10.  Message-ID: <15464986.1075855378456.JavaMail.e...\n",
       "2   allen-p/_sent_mail/100.  Message-ID: <24216240.1075855687451.JavaMail.e...\n",
       "3  allen-p/_sent_mail/1000.  Message-ID: <13505866.1075863688222.JavaMail.e...\n",
       "4  allen-p/_sent_mail/1001.  Message-ID: <30922949.1075863688243.JavaMail.e..."
      ]
     },
     "execution_count": 2,
     "metadata": {},
     "output_type": "execute_result"
    }
   ],
   "source": [
    "df = pd.read_csv(\"./dataset/emails.csv\")\n",
    "df.head()"
   ]
  },
  {
   "cell_type": "markdown",
   "id": "ab86d00e",
   "metadata": {},
   "source": [
    "### EDA"
   ]
  },
  {
   "cell_type": "code",
   "execution_count": 3,
   "id": "90fddef5",
   "metadata": {},
   "outputs": [
    {
     "name": "stdout",
     "output_type": "stream",
     "text": [
      "Number of rows and columns (517401, 2)\n",
      "Columns: ['file', 'message']\n",
      "====================\n",
      "Message-ID: <18782981.1075855378110.JavaMail.evans@thyme>\n",
      "Date: Mon, 14 May 2001 16:39:00 -0700 (PDT)\n",
      "From: phillip.allen@enron.com\n",
      "To: tim.belden@enron.com\n",
      "Subject: \n",
      "Mime-Version: 1.0\n",
      "Content-Type: text/plain; charset=us-ascii\n",
      "Content-Transfer-Encoding: 7bit\n",
      "X-From: Phillip K Allen\n",
      "X-To: Tim Belden <Tim Belden/Enron@EnronXGate>\n",
      "X-cc: \n",
      "X-bcc: \n",
      "X-Folder: \\Phillip_Allen_Jan2002_1\\Allen, Phillip K.\\'Sent Mail\n",
      "X-Origin: Allen-P\n",
      "X-FileName: pallen (Non-Privileged).pst\n",
      "\n",
      "Here is our forecast\n",
      "\n",
      " \n",
      "====================\n",
      "Message-ID: <15464986.1075855378456.JavaMail.evans@thyme>\n",
      "Date: Fri, 4 May 2001 13:51:00 -0700 (PDT)\n",
      "From: phillip.allen@enron.com\n",
      "To: john.lavorato@enron.com\n",
      "Subject: Re:\n",
      "Mime-Version: 1.0\n",
      "Content-Type: text/plain; charset=us-ascii\n",
      "Content-Transfer-Encoding: 7bit\n",
      "X-From: Phillip K Allen\n",
      "X-To: John J Lavorato <John J Lavorato/ENRON@enronXgate@ENRON>\n",
      "X-cc: \n",
      "X-bcc: \n",
      "X-Folder: \\Phillip_Allen_Jan2002_1\\Allen, Phillip K.\\'Sent Mail\n",
      "X-Origin: Allen-P\n",
      "X-FileName: pallen (Non-Privileged).pst\n",
      "\n",
      "Traveling to have a business meeting takes the fun out of the trip.  Especially if you have to prepare a presentation.  I would suggest holding the business plan meetings here then take a trip without any formal business meetings.  I would even try and get some honest opinions on whether a trip is even desired or necessary.\n",
      "\n",
      "As far as the business meetings, I think it would be more productive to try and stimulate discussions across the different groups about what is working and what is not.  Too often the\n",
      "====================\n",
      "Message-ID: <24216240.1075855687451.JavaMail.evans@thyme>\n",
      "Date: Wed, 18 Oct 2000 03:00:00 -0700 (PDT)\n",
      "From: phillip.allen@enron.com\n",
      "To: leah.arsdall@enron.com\n",
      "Subject: Re: test\n",
      "Mime-Version: 1.0\n",
      "Content-Type: text/plain; charset=us-ascii\n",
      "Content-Transfer-Encoding: 7bit\n",
      "X-From: Phillip K Allen\n",
      "X-To: Leah Van Arsdall\n",
      "X-cc: \n",
      "X-bcc: \n",
      "X-Folder: \\Phillip_Allen_Dec2000\\Notes Folders\\'sent mail\n",
      "X-Origin: Allen-P\n",
      "X-FileName: pallen.nsf\n",
      "\n",
      "test successful.  way to go!!!\n"
     ]
    }
   ],
   "source": [
    "# dataset dimensions\n",
    "print(\"Number of rows and columns\" , df.shape)\n",
    "print(\"Columns:\", df.columns.tolist())\n",
    "\n",
    "# print some messages \n",
    "for i in range(3):\n",
    "    print(\"=\"*20)\n",
    "    print(df['message'].iloc[i][:1000])"
   ]
  },
  {
   "cell_type": "code",
   "execution_count": 4,
   "id": "ab7e285f",
   "metadata": {},
   "outputs": [
    {
     "name": "stdout",
     "output_type": "stream",
     "text": [
      "null values file       0\n",
      "message    0\n",
      "dtype: int64\n"
     ]
    }
   ],
   "source": [
    "# null values number\n",
    "print(\"null values\", df.isnull().sum())"
   ]
  },
  {
   "cell_type": "code",
   "execution_count": 5,
   "id": "83502f6d",
   "metadata": {},
   "outputs": [
    {
     "name": "stdout",
     "output_type": "stream",
     "text": [
      "message\n",
      "<class 'str'>    517401\n",
      "Name: count, dtype: int64\n",
      "0\n",
      "Messages length statistics:\n",
      "count    517401\n",
      "mean       2720\n",
      "std        8360\n",
      "min         383\n",
      "25%         902\n",
      "50%        1529\n",
      "75%        2698\n",
      "max     2011941\n",
      "Name: message_length, dtype: float64\n"
     ]
    },
    {
     "data": {
      "text/plain": [
       "<Axes: >"
      ]
     },
     "execution_count": 5,
     "metadata": {},
     "output_type": "execute_result"
    },
    {
     "data": {
      "image/png": "[encoded data removed]",
      "text/plain": [
       "<Figure size 640x480 with 1 Axes>"
      ]
     },
     "metadata": {},
     "output_type": "display_data"
    }
   ],
   "source": [
    "#verify type\n",
    "print(df['message'].apply(type).value_counts())\n",
    "print((df['message'].str.strip()=='').sum())\n",
    "# messages length\n",
    "df['message'] = df['message'].astype(str)\n",
    "df['message_length'] = df['message'].str.len()\n",
    "print(\"Messages length statistics:\")\n",
    "pd.set_option('display.float_format', '{:.0f}'.format)\n",
    "print(df['message_length'].describe())\n",
    "df['message_length'].hist(bins=50)"
   ]
  },
  {
   "cell_type": "code",
   "execution_count": 6,
   "id": "d6ee8e9a",
   "metadata": {},
   "outputs": [
    {
     "data": {
      "text/plain": [
       "<Axes: >"
      ]
     },
     "execution_count": 6,
     "metadata": {},
     "output_type": "execute_result"
    },
    {
     "data": {
      "image/png": "[encoded data removed]",
      "text/plain": [
       "<Figure size 640x480 with 1 Axes>"
      ]
     },
     "metadata": {},
     "output_type": "display_data"
    }
   ],
   "source": [
    "# distribution without extremes\n",
    "df['message_length'].clip(upper=15000).hist(bins=50)"
   ]
  },
  {
   "cell_type": "markdown",
   "id": "67254591",
   "metadata": {},
   "source": [
    "## Feature Engineering\n",
    "### Parsing emails"
   ]
  },
  {
   "cell_type": "code",
   "execution_count": 7,
   "id": "1547ad05",
   "metadata": {},
   "outputs": [
    {
     "name": "stdout",
     "output_type": "stream",
     "text": [
      "Parsed email: {'Message-ID': '<18782981.1075855378110.JavaMail.evans@thyme>', 'Date': 'Mon, 14 May 2001 16:39:00 -0700 (PDT)', 'From': 'phillip.allen@enron.com', 'To': 'tim.belden@enron.com', 'Subject': '', 'Mime-Version': '1.0', 'Content-Type': 'text/plain; charset=us-ascii', 'Content-Transfer-Encoding': '7bit', 'X-From': 'Phillip K Allen', 'X-To': 'Tim Belden <Tim Belden/Enron@EnronXGate>', 'X-cc': '', 'X-bcc': '', 'X-Folder': \"\\\\Phillip_Allen_Jan2002_1\\\\Allen, Phillip K.\\\\'Sent Mail\", 'X-Origin': 'Allen-P', 'X-FileName': 'pallen (Non-Privileged).pst', 'body': 'Here is our forecast'}\n"
     ]
    }
   ],
   "source": [
    "#extracting value from header\n",
    "def extract_value(line, key):\n",
    "    if line.lower().startswith(key.lower() + ':'):\n",
    "        # split the line by colon and return the right part\n",
    "        return line.split(':', 1)[1].strip()\n",
    "    return None\n",
    "\n",
    "# parsing function\n",
    "def parse_email(email):\n",
    "    result = {\n",
    "        'Message-ID': None,\n",
    "        'Date': None,\n",
    "        'From': None,\n",
    "        'To': None,\n",
    "        'Subject': None,\n",
    "        'Mime-Version': None,\n",
    "        'Content-Type': None,\n",
    "        'Content-Transfer-Encoding': None,\n",
    "        'X-From': None,\n",
    "        'X-To': None,\n",
    "        'X-cc': None,\n",
    "        'X-bcc': None,\n",
    "        'X-Folder': None,\n",
    "        'X-Origin': None,\n",
    "        'X-FileName': None,\n",
    "        'body': None\n",
    "    }\n",
    "    \n",
    "    # split headers and body\n",
    "    parts = email.split('\\n\\n', 1)\n",
    "    if len(parts) < 2:\n",
    "        return result\n",
    "    headers, body = parts\n",
    "    result['body'] = body.strip()\n",
    "    # parse headers\n",
    "    for line in headers.split('\\n'):\n",
    "        for key in result.keys():\n",
    "            if result[key] is None:\n",
    "                # check if the line starts with the key\n",
    "                extracted_value = extract_value(line, key)\n",
    "                if extracted_value is not None:\n",
    "                    # assign the value to the result dictionary\n",
    "                    result[key] = extracted_value\n",
    "             \n",
    "    \n",
    "    return result\n",
    "\n",
    "#test parsing\n",
    "email = df['message'].iloc[0]\n",
    "parsed_email = parse_email(email)\n",
    "print(\"Parsed email:\", parsed_email)\n"
   ]
  },
  {
   "cell_type": "markdown",
   "id": "0d81c78d",
   "metadata": {},
   "source": [
    "#### Applying the parser"
   ]
  },
  {
   "cell_type": "code",
   "execution_count": 8,
   "id": "8db5ccf8",
   "metadata": {},
   "outputs": [
    {
     "name": "stdout",
     "output_type": "stream",
     "text": [
      "Parsed DataFrame head:\n",
      "                                      Message-ID  \\\n",
      "0  <18782981.1075855378110.JavaMail.evans@thyme>   \n",
      "1  <15464986.1075855378456.JavaMail.evans@thyme>   \n",
      "2  <24216240.1075855687451.JavaMail.evans@thyme>   \n",
      "3  <13505866.1075863688222.JavaMail.evans@thyme>   \n",
      "4  <30922949.1075863688243.JavaMail.evans@thyme>   \n",
      "\n",
      "                                    Date                     From  \\\n",
      "0  Mon, 14 May 2001 16:39:00 -0700 (PDT)  phillip.allen@enron.com   \n",
      "1   Fri, 4 May 2001 13:51:00 -0700 (PDT)  phillip.allen@enron.com   \n",
      "2  Wed, 18 Oct 2000 03:00:00 -0700 (PDT)  phillip.allen@enron.com   \n",
      "3  Mon, 23 Oct 2000 06:13:00 -0700 (PDT)  phillip.allen@enron.com   \n",
      "4  Thu, 31 Aug 2000 05:07:00 -0700 (PDT)  phillip.allen@enron.com   \n",
      "\n",
      "                        To    Subject Mime-Version  \\\n",
      "0     tim.belden@enron.com                     1.0   \n",
      "1  john.lavorato@enron.com        Re:          1.0   \n",
      "2   leah.arsdall@enron.com   Re: test          1.0   \n",
      "3    randall.gay@enron.com                     1.0   \n",
      "4     greg.piper@enron.com  Re: Hello          1.0   \n",
      "\n",
      "                   Content-Type Content-Transfer-Encoding           X-From  \\\n",
      "0  text/plain; charset=us-ascii                      7bit  Phillip K Allen   \n",
      "1  text/plain; charset=us-ascii                      7bit  Phillip K Allen   \n",
      "2  text/plain; charset=us-ascii                      7bit  Phillip K Allen   \n",
      "3  text/plain; charset=us-ascii                      7bit  Phillip K Allen   \n",
      "4  text/plain; charset=us-ascii                      7bit  Phillip K Allen   \n",
      "\n",
      "                                                X-To X-cc X-bcc  \\\n",
      "0           Tim Belden <Tim Belden/Enron@EnronXGate>              \n",
      "1  John J Lavorato <John J Lavorato/ENRON@enronXg...              \n",
      "2                                   Leah Van Arsdall              \n",
      "3                                      Randall L Gay              \n",
      "4                                         Greg Piper              \n",
      "\n",
      "                                            X-Folder X-Origin  \\\n",
      "0  \\Phillip_Allen_Jan2002_1\\Allen, Phillip K.\\'Se...  Allen-P   \n",
      "1  \\Phillip_Allen_Jan2002_1\\Allen, Phillip K.\\'Se...  Allen-P   \n",
      "2    \\Phillip_Allen_Dec2000\\Notes Folders\\'sent mail  Allen-P   \n",
      "3    \\Phillip_Allen_Dec2000\\Notes Folders\\'sent mail  Allen-P   \n",
      "4    \\Phillip_Allen_Dec2000\\Notes Folders\\'sent mail  Allen-P   \n",
      "\n",
      "                    X-FileName  \\\n",
      "0  pallen (Non-Privileged).pst   \n",
      "1  pallen (Non-Privileged).pst   \n",
      "2                   pallen.nsf   \n",
      "3                   pallen.nsf   \n",
      "4                   pallen.nsf   \n",
      "\n",
      "                                                body  \n",
      "0                               Here is our forecast  \n",
      "1  Traveling to have a business meeting takes the...  \n",
      "2                     test successful.  way to go!!!  \n",
      "3  Randy,\\n\\n Can you send me a schedule of the s...  \n",
      "4                  Let's shoot for Tuesday at 11:45.  \n"
     ]
    }
   ],
   "source": [
    "df_parsed = df['message'].apply(parse_email).apply(pd.Series)\n",
    "#show head\n",
    "print(\"Parsed DataFrame head:\")\n",
    "print(df_parsed.head())"
   ]
  },
  {
   "cell_type": "markdown",
   "id": "6653be55",
   "metadata": {},
   "source": [
    "#### Drop unnecessary columns"
   ]
  },
  {
   "cell_type": "code",
   "execution_count": 9,
   "id": "b5ac2ecb",
   "metadata": {},
   "outputs": [
    {
     "name": "stdout",
     "output_type": "stream",
     "text": [
      "Updated DataFrame head:\n",
      "                       file  \\\n",
      "0     allen-p/_sent_mail/1.   \n",
      "1    allen-p/_sent_mail/10.   \n",
      "2   allen-p/_sent_mail/100.   \n",
      "3  allen-p/_sent_mail/1000.   \n",
      "4  allen-p/_sent_mail/1001.   \n",
      "\n",
      "                                             message                     From  \\\n",
      "0  Message-ID: <18782981.1075855378110.JavaMail.e...  phillip.allen@enron.com   \n",
      "1  Message-ID: <15464986.1075855378456.JavaMail.e...  phillip.allen@enron.com   \n",
      "2  Message-ID: <24216240.1075855687451.JavaMail.e...  phillip.allen@enron.com   \n",
      "3  Message-ID: <13505866.1075863688222.JavaMail.e...  phillip.allen@enron.com   \n",
      "4  Message-ID: <30922949.1075863688243.JavaMail.e...  phillip.allen@enron.com   \n",
      "\n",
      "     Subject                                               body  \n",
      "0                                          Here is our forecast  \n",
      "1        Re:  Traveling to have a business meeting takes the...  \n",
      "2   Re: test                     test successful.  way to go!!!  \n",
      "3             Randy,\\n\\n Can you send me a schedule of the s...  \n",
      "4  Re: Hello                  Let's shoot for Tuesday at 11:45.  \n"
     ]
    }
   ],
   "source": [
    "# Adding From, Subject and body columns to df\n",
    "df = pd.concat([df, df_parsed[['From', 'Subject', 'body']]], axis=1)\n",
    "# drop message_length column\n",
    "df.drop(columns=['message_length'], inplace=True)\n",
    "# Show the first few rows of the updated DataFrame\n",
    "print(\"Updated DataFrame head:\")\n",
    "print(df.head())"
   ]
  },
  {
   "cell_type": "markdown",
   "id": "164fee4f",
   "metadata": {},
   "source": [
    "#### Creating text column to be vectorized"
   ]
  },
  {
   "cell_type": "code",
   "execution_count": 10,
   "id": "f56619ac",
   "metadata": {},
   "outputs": [],
   "source": [
    "df['text'] = df['From'].fillna('') + ' ' + df['Subject'].fillna('') + ' ' + df['body'].fillna('')\n"
   ]
  },
  {
   "cell_type": "markdown",
   "id": "08412ec9",
   "metadata": {},
   "source": [
    "#### Cleaning text with spaCy"
   ]
  },
  {
   "cell_type": "code",
   "execution_count": 13,
   "id": "24d9a9b9",
   "metadata": {},
   "outputs": [
    {
     "name": "stdout",
     "output_type": "stream",
     "text": [
      "DataFrame with cleaned text head:\n",
      "                                                     text  \\\n",
      "427616  sara.shackleton@enron.com Re: Credit Derivativ...   \n",
      "108773  pat.clynes@enron.com Meter #1591 Lamay Gaslift...   \n",
      "355471  knipe3@msn.com Re: man night again? GCCA Crawf...   \n",
      "457837  kalmeida@caiso.com Enron 480, 1480 charges <<K...   \n",
      "124910  chris.germany@enron.com Transport Deal I'm try...   \n",
      "\n",
      "                                             cleaned_text  \n",
      "427616  credit derivative bill thank info speak jeff l...  \n",
      "108773  meter lamay gaslift aimee check meter lamay ga...  \n",
      "355471  man night gcca crawfish rip raffle price print...  \n",
      "457837  enron charge chris request charge track date e...  \n",
      "124910  transport deal try change receipt meter deal m...  \n"
     ]
    }
   ],
   "source": [
    "import re \n",
    "import spacy\n",
    "nlp = spacy.load(\"en_core_web_sm\")\n",
    "\n",
    "# Function to clean and tokenize text\n",
    "\n",
    "def clean_text(text):\n",
    "    doc = nlp(text.lower())\n",
    "    tokens = [token.lemma_ for token in doc if not token.is_stop and token.is_alpha]\n",
    "    return ' '.join(tokens)\n",
    "\n",
    "# testing on small sample \n",
    "df_sample = df.sample(1000, random_state=42)\n",
    "\n",
    "# Apply the cleaning function to the 'text' column\n",
    "df_sample['cleaned_text'] = df_sample['text'].apply(clean_text)\n",
    "# Show the first few rows of the DataFrame with cleaned text\n",
    "print(\"DataFrame with cleaned text head:\")\n",
    "print(df_sample[['text', 'cleaned_text']].head())"
   ]
  },
  {
   "cell_type": "markdown",
   "id": "8ffded2a",
   "metadata": {},
   "source": [
    "#### Vectorizing text with TF-IDF"
   ]
  },
  {
   "cell_type": "code",
   "execution_count": null,
   "id": "b8e51056",
   "metadata": {},
   "outputs": [
    {
     "name": "stdout",
     "output_type": "stream",
     "text": [
      "TF-IDF matrix shape: (1000, 5000)\n"
     ]
    }
   ],
   "source": [
    "from sklearn.feature_extraction.text import TfidfVectorizer\n",
    "\n",
    "vectorizer = TfidfVectorizer(max_features=5000)\n",
    "X = vectorizer.fit_transform(df_sample['cleaned_text'])\n",
    "print(\"TF-IDF matrix shape:\", X.shape)\n"
   ]
  },
  {
   "cell_type": "code",
   "execution_count": null,
   "id": "c508b2d8",
   "metadata": {},
   "outputs": [
    {
     "name": "stdout",
     "output_type": "stream",
     "text": [
      "Nombre de valeurs non nulles : 61959\n"
     ]
    }
   ],
   "source": [
    "# check non-zero values\n",
    "print(\"Nombre de valeurs non nulles :\", X.nnz)\n"
   ]
  },
  {
   "cell_type": "markdown",
   "id": "540636d2",
   "metadata": {},
   "source": [
    "## Labeling Data"
   ]
  },
  {
   "cell_type": "markdown",
   "id": "9a0c2f68",
   "metadata": {},
   "source": [
    "#### adding column label"
   ]
  },
  {
   "cell_type": "code",
   "execution_count": null,
   "id": "a07f4562",
   "metadata": {},
   "outputs": [],
   "source": [
    "df_sample['label'] = ''\n",
    "df_sample.to_csv('emails_sample_to_label.csv', index=False)\n",
    "df_excel= pd.read_csv('emails_sample_to_label.csv')\n",
    "df_excel.to_excel('emails_sample_to_label.xlsx', index=False)\n",
    "\n",
    "# adding labels in Excel"
   ]
  },
  {
   "cell_type": "markdown",
   "id": "ec132e86",
   "metadata": {},
   "source": [
    "#### Separating labeled and unlabeled data"
   ]
  },
  {
   "cell_type": "code",
   "execution_count": 61,
   "id": "21fc2837",
   "metadata": {},
   "outputs": [
    {
     "name": "stdout",
     "output_type": "stream",
     "text": [
      "Label count label\n",
      "Others        55\n",
      "Operations    50\n",
      "Legal         35\n",
      "Finance       18\n",
      "Name: count, dtype: int64\n",
      "                                         file       label\n",
      "0                     shackleton-s/sent/1912.     Finance\n",
      "1                    farmer-d/logistics/1066.         NaN\n",
      "2                  parks-j/deleted_items/202.         NaN\n",
      "3  stokley-c/chris_stokley/iso/client_rep/41.     Finance\n",
      "4               germany-c/all_documents/1174.  Operations\n"
     ]
    }
   ],
   "source": [
    "df_sample = pd.read_excel('emails_sample_to_label.xlsx')\n",
    "print(\"Label count\", df_sample['label'].value_counts())\n",
    "print(df_sample[['file','label']].head())"
   ]
  },
  {
   "cell_type": "code",
   "execution_count": 62,
   "id": "92a9465b",
   "metadata": {},
   "outputs": [],
   "source": [
    "df_sample_labeled = df_sample[(df_sample['label'] != '') & df_sample['label'].notna()]\n",
    "df_sample_unlabeled = df_sample[(df_sample['label'] == '') | df_sample['label'].isna()]\n",
    "\n",
    "\n"
   ]
  },
  {
   "cell_type": "markdown",
   "id": "1a8b1ff7",
   "metadata": {},
   "source": [
    "## Training the model on labeled data"
   ]
  },
  {
   "cell_type": "markdown",
   "id": "0f8c3e44",
   "metadata": {},
   "source": [
    "### Separating features and labels"
   ]
  },
  {
   "cell_type": "code",
   "execution_count": 63,
   "id": "3c65954d",
   "metadata": {},
   "outputs": [],
   "source": [
    "X_labeled = df_sample_labeled['cleaned_text']\n",
    "y_labeled = df_sample_labeled['label']"
   ]
  },
  {
   "cell_type": "markdown",
   "id": "a82b0900",
   "metadata": {},
   "source": [
    "### Split the data into train and test sets"
   ]
  },
  {
   "cell_type": "code",
   "execution_count": 64,
   "id": "403e5756",
   "metadata": {},
   "outputs": [],
   "source": [
    "from sklearn.model_selection import train_test_split\n",
    "\n",
    "X_train, X_test, y_train, y_test = train_test_split(X_labeled, y_labeled, test_size=0.2, random_state=42, stratify=y_labeled)"
   ]
  },
  {
   "cell_type": "markdown",
   "id": "99699695",
   "metadata": {},
   "source": [
    "### Vectorizing the text data"
   ]
  },
  {
   "cell_type": "code",
   "execution_count": 66,
   "id": "d120bb37",
   "metadata": {},
   "outputs": [],
   "source": [
    "X_train_clean = X_train.fillna('')\n",
    "X_test_clean = X_test.fillna('')\n",
    "X_train_vectorized = vectorizer.transform(X_train_clean)\n",
    "X_test_vectorized = vectorizer.transform(X_test_clean)\n",
    "\n"
   ]
  },
  {
   "cell_type": "markdown",
   "id": "edbd77bc",
   "metadata": {},
   "source": [
    "### Training : Logistic Regression"
   ]
  },
  {
   "cell_type": "code",
   "execution_count": 67,
   "id": "a0b01e48",
   "metadata": {},
   "outputs": [
    {
     "name": "stdout",
     "output_type": "stream",
     "text": [
      "Classification Report:\n"
     ]
    },
    {
     "name": "stderr",
     "output_type": "stream",
     "text": [
      "c:\\Users\\khali\\AppData\\Local\\Programs\\Python\\Python311\\Lib\\site-packages\\sklearn\\metrics\\_classification.py:1565: UndefinedMetricWarning: Precision is ill-defined and being set to 0.0 in labels with no predicted samples. Use `zero_division` parameter to control this behavior.\n",
      "  _warn_prf(average, modifier, f\"{metric.capitalize()} is\", len(result))\n",
      "c:\\Users\\khali\\AppData\\Local\\Programs\\Python\\Python311\\Lib\\site-packages\\sklearn\\metrics\\_classification.py:1565: UndefinedMetricWarning: Precision is ill-defined and being set to 0.0 in labels with no predicted samples. Use `zero_division` parameter to control this behavior.\n",
      "  _warn_prf(average, modifier, f\"{metric.capitalize()} is\", len(result))\n",
      "c:\\Users\\khali\\AppData\\Local\\Programs\\Python\\Python311\\Lib\\site-packages\\sklearn\\metrics\\_classification.py:1565: UndefinedMetricWarning: Precision is ill-defined and being set to 0.0 in labels with no predicted samples. Use `zero_division` parameter to control this behavior.\n",
      "  _warn_prf(average, modifier, f\"{metric.capitalize()} is\", len(result))\n"
     ]
    },
    {
     "name": "stdout",
     "output_type": "stream",
     "text": [
      "              precision    recall  f1-score   support\n",
      "\n",
      "     Finance       0.00      0.00      0.00         4\n",
      "       Legal       0.50      0.14      0.22         7\n",
      "  Operations       0.44      0.40      0.42        10\n",
      "      Others       0.38      0.73      0.50        11\n",
      "\n",
      "    accuracy                           0.41        32\n",
      "   macro avg       0.33      0.32      0.29        32\n",
      "weighted avg       0.38      0.41      0.35        32\n",
      "\n"
     ]
    }
   ],
   "source": [
    "from sklearn.linear_model import LogisticRegression\n",
    "from sklearn.metrics import classification_report\n",
    "\n",
    "model = LogisticRegression(max_iter=1000)\n",
    "model.fit(X_train_vectorized, y_train)\n",
    "y_pred = model.predict(X_test_vectorized)\n",
    "\n",
    "print(\"Classification Report:\")\n",
    "print(classification_report(y_test, y_pred))"
   ]
  },
  {
   "cell_type": "markdown",
   "id": "c9ab9362",
   "metadata": {},
   "source": [
    "### Training : Naive Bayes"
   ]
  },
  {
   "cell_type": "code",
   "execution_count": 68,
   "id": "e278ba3e",
   "metadata": {},
   "outputs": [
    {
     "name": "stdout",
     "output_type": "stream",
     "text": [
      "Naive Bayes Classification Report:\n"
     ]
    },
    {
     "name": "stderr",
     "output_type": "stream",
     "text": [
      "c:\\Users\\khali\\AppData\\Local\\Programs\\Python\\Python311\\Lib\\site-packages\\sklearn\\metrics\\_classification.py:1565: UndefinedMetricWarning: Precision is ill-defined and being set to 0.0 in labels with no predicted samples. Use `zero_division` parameter to control this behavior.\n",
      "  _warn_prf(average, modifier, f\"{metric.capitalize()} is\", len(result))\n",
      "c:\\Users\\khali\\AppData\\Local\\Programs\\Python\\Python311\\Lib\\site-packages\\sklearn\\metrics\\_classification.py:1565: UndefinedMetricWarning: Precision is ill-defined and being set to 0.0 in labels with no predicted samples. Use `zero_division` parameter to control this behavior.\n",
      "  _warn_prf(average, modifier, f\"{metric.capitalize()} is\", len(result))\n",
      "c:\\Users\\khali\\AppData\\Local\\Programs\\Python\\Python311\\Lib\\site-packages\\sklearn\\metrics\\_classification.py:1565: UndefinedMetricWarning: Precision is ill-defined and being set to 0.0 in labels with no predicted samples. Use `zero_division` parameter to control this behavior.\n",
      "  _warn_prf(average, modifier, f\"{metric.capitalize()} is\", len(result))\n"
     ]
    },
    {
     "name": "stdout",
     "output_type": "stream",
     "text": [
      "              precision    recall  f1-score   support\n",
      "\n",
      "     Finance       0.00      0.00      0.00         4\n",
      "       Legal       0.50      0.14      0.22         7\n",
      "  Operations       0.50      0.30      0.38        10\n",
      "      Others       0.38      0.82      0.51        11\n",
      "\n",
      "    accuracy                           0.41        32\n",
      "   macro avg       0.34      0.32      0.28        32\n",
      "weighted avg       0.39      0.41      0.34        32\n",
      "\n"
     ]
    }
   ],
   "source": [
    "from sklearn.naive_bayes import MultinomialNB\n",
    "nb_model = MultinomialNB()\n",
    "nb_model.fit(X_train_vectorized, y_train)\n",
    "y_pred_nb = nb_model.predict(X_test_vectorized)\n",
    "print(\"Naive Bayes Classification Report:\")\n",
    "print(classification_report(y_test, y_pred_nb))\n"
   ]
  },
  {
   "cell_type": "markdown",
   "id": "7cd57ffe",
   "metadata": {},
   "source": [
    "## Applying the model to unlabeled data"
   ]
  },
  {
   "cell_type": "markdown",
   "id": "041a1f9a",
   "metadata": {},
   "source": [
    "### Vectorizing the text data"
   ]
  },
  {
   "cell_type": "code",
   "execution_count": 69,
   "id": "84a5a5c1",
   "metadata": {},
   "outputs": [],
   "source": [
    "X_unlabeled_vectorized = vectorizer.transform(df_sample_unlabeled['cleaned_text'].fillna(''))\n"
   ]
  },
  {
   "cell_type": "markdown",
   "id": "1c69165f",
   "metadata": {},
   "source": [
    "### Predicting labels"
   ]
  },
  {
   "cell_type": "code",
   "execution_count": 70,
   "id": "51929bc6",
   "metadata": {},
   "outputs": [],
   "source": [
    "predicted_labels = nb_model.predict(X_unlabeled_vectorized)"
   ]
  },
  {
   "cell_type": "markdown",
   "id": "beb9684a",
   "metadata": {},
   "source": [
    "### Adding predicted labels to the unlabeled data"
   ]
  },
  {
   "cell_type": "code",
   "execution_count": 71,
   "id": "afbcdf3e",
   "metadata": {},
   "outputs": [
    {
     "name": "stderr",
     "output_type": "stream",
     "text": [
      "C:\\Users\\khali\\AppData\\Local\\Temp\\ipykernel_27144\\3418782211.py:1: SettingWithCopyWarning: \n",
      "A value is trying to be set on a copy of a slice from a DataFrame.\n",
      "Try using .loc[row_indexer,col_indexer] = value instead\n",
      "\n",
      "See the caveats in the documentation: https://pandas.pydata.org/pandas-docs/stable/user_guide/indexing.html#returning-a-view-versus-a-copy\n",
      "  df_sample_unlabeled['predicted_label'] = predicted_labels\n"
     ]
    }
   ],
   "source": [
    "df_sample_unlabeled['predicted_label'] = predicted_labels\n",
    "df_sample_unlabeled.to_excel('emails_sample_unlabeled_with_predictions.xlsx', index=False)"
   ]
  }
 ],
 "metadata": {
  "kernelspec": {
   "display_name": "Python 3",
   "language": "python",
   "name": "python3"
  },
  "language_info": {
   "codemirror_mode": {
    "name": "ipython",
    "version": 3
   },
   "file_extension": ".py",
   "mimetype": "text/x-python",
   "name": "python",
   "nbconvert_exporter": "python",
   "pygments_lexer": "ipython3",
   "version": "3.11.8"
  }
 },
 "nbformat": 4,
 "nbformat_minor": 5
}
